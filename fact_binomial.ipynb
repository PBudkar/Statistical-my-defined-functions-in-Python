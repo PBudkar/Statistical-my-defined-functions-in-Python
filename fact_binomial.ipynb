{
 "cells": [
  {
   "cell_type": "markdown",
   "id": "b8fb6b07",
   "metadata": {},
   "source": [
    "######## list of even numbers "
   ]
  },
  {
   "cell_type": "code",
   "execution_count": 4,
   "id": "a292284e",
   "metadata": {},
   "outputs": [],
   "source": [
    "def even(x):\n",
    "    h=[]\n",
    "    for i in x:\n",
    "        if i%2==0:\n",
    "            h.append(i)\n",
    "    return(h)"
   ]
  },
  {
   "cell_type": "code",
   "execution_count": 5,
   "id": "5ef98409",
   "metadata": {},
   "outputs": [
    {
     "data": {
      "text/plain": [
       "[44, 64]"
      ]
     },
     "execution_count": 5,
     "metadata": {},
     "output_type": "execute_result"
    }
   ],
   "source": [
    "even([23,44,64,97,35])"
   ]
  },
  {
   "cell_type": "code",
   "execution_count": 6,
   "id": "610bcf99",
   "metadata": {},
   "outputs": [],
   "source": [
    "## list of odd numbers"
   ]
  },
  {
   "cell_type": "code",
   "execution_count": 7,
   "id": "34aaa8ec",
   "metadata": {},
   "outputs": [],
   "source": [
    "def odd(x):\n",
    "    h=[]\n",
    "    for i in x:\n",
    "        if i%2!=0:\n",
    "            h.append(i)\n",
    "    return(h)\n",
    "    "
   ]
  },
  {
   "cell_type": "code",
   "execution_count": 8,
   "id": "14c994a3",
   "metadata": {},
   "outputs": [
    {
     "data": {
      "text/plain": [
       "[23, 97, 35]"
      ]
     },
     "execution_count": 8,
     "metadata": {},
     "output_type": "execute_result"
    }
   ],
   "source": [
    "odd([23,44,64,97,35])"
   ]
  },
  {
   "cell_type": "code",
   "execution_count": 9,
   "id": "9c2c9deb",
   "metadata": {},
   "outputs": [],
   "source": [
    "## Two different list of even or odd numbers"
   ]
  },
  {
   "cell_type": "code",
   "execution_count": 10,
   "id": "5bb9a036",
   "metadata": {},
   "outputs": [],
   "source": [
    "def evenodd(x):\n",
    "    h=[]\n",
    "    l=[]\n",
    "    for i in x:\n",
    "        if i%2==0:\n",
    "            h.append(i)\n",
    "        else:\n",
    "            l.append(i)\n",
    "    return(h,l)"
   ]
  },
  {
   "cell_type": "code",
   "execution_count": 11,
   "id": "63aeb1c1",
   "metadata": {},
   "outputs": [
    {
     "data": {
      "text/plain": [
       "([44, 64], [23, 97, 35])"
      ]
     },
     "execution_count": 11,
     "metadata": {},
     "output_type": "execute_result"
    }
   ],
   "source": [
    "evenodd([23,44,64,97,35])"
   ]
  },
  {
   "cell_type": "code",
   "execution_count": 12,
   "id": "7e839482",
   "metadata": {},
   "outputs": [],
   "source": [
    "##Mean of numbers"
   ]
  },
  {
   "cell_type": "code",
   "execution_count": 13,
   "id": "81f15455",
   "metadata": {},
   "outputs": [],
   "source": [
    "def meanp(x):\n",
    "    s1=0\n",
    "    for i in x:\n",
    "        s1=s1+i\n",
    "    return(s1/len(x))\n",
    "        "
   ]
  },
  {
   "cell_type": "code",
   "execution_count": 14,
   "id": "62dc6ab2",
   "metadata": {},
   "outputs": [
    {
     "data": {
      "text/plain": [
       "2.0"
      ]
     },
     "execution_count": 14,
     "metadata": {},
     "output_type": "execute_result"
    }
   ],
   "source": [
    "meanp([2,2,2,2,2])"
   ]
  },
  {
   "cell_type": "code",
   "execution_count": 15,
   "id": "7ede868e",
   "metadata": {},
   "outputs": [],
   "source": [
    "## variance of numbers"
   ]
  },
  {
   "cell_type": "code",
   "execution_count": 16,
   "id": "10d338df",
   "metadata": {},
   "outputs": [],
   "source": [
    "def va(x):\n",
    "    s1=0\n",
    "    for i in x:\n",
    "        s1=s1+i**2\n",
    "    return(s1/len(x)-(meanp(x)**2))"
   ]
  },
  {
   "cell_type": "code",
   "execution_count": 17,
   "id": "8b282732",
   "metadata": {},
   "outputs": [
    {
     "data": {
      "text/plain": [
       "0.0"
      ]
     },
     "execution_count": 17,
     "metadata": {},
     "output_type": "execute_result"
    }
   ],
   "source": [
    "va([2,2,2,2])"
   ]
  },
  {
   "cell_type": "code",
   "execution_count": 18,
   "id": "d55003c5",
   "metadata": {},
   "outputs": [
    {
     "data": {
      "text/plain": [
       "4.0"
      ]
     },
     "execution_count": 18,
     "metadata": {},
     "output_type": "execute_result"
    }
   ],
   "source": [
    "meanp(even([2,3,6,9]))        ## mean of even numbers in the list"
   ]
  },
  {
   "cell_type": "code",
   "execution_count": 19,
   "id": "5036689a",
   "metadata": {},
   "outputs": [],
   "source": [
    "## covariance of two lists"
   ]
  },
  {
   "cell_type": "code",
   "execution_count": 20,
   "id": "c54589ae",
   "metadata": {},
   "outputs": [],
   "source": [
    "def cov(x,y):\n",
    "    s=0\n",
    "    n=len(x)\n",
    "    for i in range(0,n):\n",
    "        s=s+x[i]*y[i]\n",
    "    return(s/n-meanp(x)*meanp(y))"
   ]
  },
  {
   "cell_type": "code",
   "execution_count": 21,
   "id": "cc998736",
   "metadata": {},
   "outputs": [
    {
     "data": {
      "text/plain": [
       "0.25"
      ]
     },
     "execution_count": 21,
     "metadata": {},
     "output_type": "execute_result"
    }
   ],
   "source": [
    "cov([2,3],[1,2])"
   ]
  },
  {
   "cell_type": "code",
   "execution_count": 22,
   "id": "4616bff3",
   "metadata": {},
   "outputs": [],
   "source": [
    "## correlation between two variables"
   ]
  },
  {
   "cell_type": "code",
   "execution_count": 23,
   "id": "88caf85d",
   "metadata": {},
   "outputs": [],
   "source": [
    "def corr(x,y):\n",
    "    n=cov(x,y)/(pow(va(x),1/2)*pow(va(y),1/2))\n",
    "    return(n)"
   ]
  },
  {
   "cell_type": "code",
   "execution_count": null,
   "id": "b7c919d7",
   "metadata": {},
   "outputs": [],
   "source": []
  },
  {
   "cell_type": "code",
   "execution_count": 24,
   "id": "358ce394",
   "metadata": {},
   "outputs": [
    {
     "data": {
      "text/plain": [
       "1.0"
      ]
     },
     "execution_count": 24,
     "metadata": {},
     "output_type": "execute_result"
    }
   ],
   "source": [
    "corr([2,4],[4,8])"
   ]
  },
  {
   "cell_type": "code",
   "execution_count": null,
   "id": "33a6e95b",
   "metadata": {},
   "outputs": [],
   "source": [
    "            "
   ]
  },
  {
   "cell_type": "code",
   "execution_count": null,
   "id": "61b9b21c",
   "metadata": {},
   "outputs": [],
   "source": []
  },
  {
   "cell_type": "code",
   "execution_count": 25,
   "id": "07a6d1a9",
   "metadata": {},
   "outputs": [],
   "source": [
    "## finding the prime numbers in the list "
   ]
  },
  {
   "cell_type": "code",
   "execution_count": 26,
   "id": "76db5e44",
   "metadata": {},
   "outputs": [],
   "source": [
    "def prime(y):\n",
    "    h=[]\n",
    "    for j in y:\n",
    "        n=j-1\n",
    "        while(n>1):\n",
    "            if j%n==0:\n",
    "                h.append(j)\n",
    "                break\n",
    "            n=n-1\n",
    "    f=set(y)\n",
    "    g=set(h)\n",
    "    return(list(f.difference(g)))\n",
    "        \n",
    "\n",
    "   \n",
    "    "
   ]
  },
  {
   "cell_type": "code",
   "execution_count": 27,
   "id": "438dfd3a",
   "metadata": {},
   "outputs": [
    {
     "data": {
      "text/plain": [
       "[2, 3, 23]"
      ]
     },
     "execution_count": 27,
     "metadata": {},
     "output_type": "execute_result"
    }
   ],
   "source": [
    "prime([12,34,21,23,9,2,3])"
   ]
  },
  {
   "cell_type": "code",
   "execution_count": 28,
   "id": "195c272e",
   "metadata": {},
   "outputs": [],
   "source": [
    "## factorial of given number"
   ]
  },
  {
   "cell_type": "code",
   "execution_count": 29,
   "id": "c5ce692e",
   "metadata": {},
   "outputs": [],
   "source": [
    "def fact(n):\n",
    "    if n==1:\n",
    "        return(n)\n",
    "    else:\n",
    "        return(n*fact(n-1))\n",
    "    "
   ]
  },
  {
   "cell_type": "code",
   "execution_count": 30,
   "id": "074cc4ac",
   "metadata": {},
   "outputs": [
    {
     "data": {
      "text/plain": [
       "2"
      ]
     },
     "execution_count": 30,
     "metadata": {},
     "output_type": "execute_result"
    }
   ],
   "source": [
    "fact(2)"
   ]
  },
  {
   "cell_type": "code",
   "execution_count": 31,
   "id": "b9bae16e",
   "metadata": {},
   "outputs": [
    {
     "data": {
      "text/plain": [
       "120"
      ]
     },
     "execution_count": 31,
     "metadata": {},
     "output_type": "execute_result"
    }
   ],
   "source": [
    "fact(5)"
   ]
  },
  {
   "cell_type": "code",
   "execution_count": 32,
   "id": "d2cf9769",
   "metadata": {},
   "outputs": [],
   "source": [
    "## defining the function for finding the density of binomial distribution"
   ]
  },
  {
   "cell_type": "code",
   "execution_count": 33,
   "id": "ad24e93d",
   "metadata": {},
   "outputs": [],
   "source": [
    "def pdfbino(x,n,p):\n",
    "    ncx=fact(n)/(fact(x)*fact(n-x))\n",
    "    px=pow(p,x)\n",
    "    qn_x=pow((1-p),(n-x))\n",
    "    return(ncx*px*qn_x)"
   ]
  },
  {
   "cell_type": "code",
   "execution_count": 34,
   "id": "d6d9150e",
   "metadata": {},
   "outputs": [
    {
     "data": {
      "text/plain": [
       "0.1171875"
      ]
     },
     "execution_count": 34,
     "metadata": {},
     "output_type": "execute_result"
    }
   ],
   "source": [
    "pdfbino(3,10,0.5)"
   ]
  },
  {
   "cell_type": "code",
   "execution_count": 35,
   "id": "d0091fc8",
   "metadata": {},
   "outputs": [],
   "source": [
    "def pdfbino(x,n,p):\n",
    "    if(n>x and 0<p>1):\n",
    "        ncx=fact(n)/(fact(x)*fact(n-x))\n",
    "        px=pow(p,x)\n",
    "        qn_x=pow((1-p),(n-x))\n",
    "        return(ncx*px*qn_x)\n",
    "    else:\n",
    "        print(\"Parameters are out of range\")"
   ]
  },
  {
   "cell_type": "code",
   "execution_count": 36,
   "id": "b0e77801",
   "metadata": {},
   "outputs": [
    {
     "name": "stdout",
     "output_type": "stream",
     "text": [
      "Parameters are out of range\n"
     ]
    }
   ],
   "source": [
    "pdfbino(2,3,0.4)"
   ]
  },
  {
   "cell_type": "code",
   "execution_count": 37,
   "id": "d71c5315",
   "metadata": {},
   "outputs": [],
   "source": [
    "def pdfbinom(x,n,p):\n",
    "    if(x<n):\n",
    "        ncx=fact(n)/(fact(x)*fact(n-x))\n",
    "        px=pow(p,x)\n",
    "        qn_x=pow((1-p),(n-x))\n",
    "        return(ncx*px*qn_x)\n",
    "    else: \n",
    "        print(\"Parameters are out of range\")\n",
    "        "
   ]
  },
  {
   "cell_type": "code",
   "execution_count": 38,
   "id": "1cbdcd68",
   "metadata": {},
   "outputs": [
    {
     "name": "stdout",
     "output_type": "stream",
     "text": [
      "Parameters are out of range\n"
     ]
    }
   ],
   "source": [
    "pdfbinom(5,3,0.4)"
   ]
  },
  {
   "cell_type": "code",
   "execution_count": 39,
   "id": "d36e2220",
   "metadata": {},
   "outputs": [
    {
     "data": {
      "text/plain": [
       "0.09596168603351884"
      ]
     },
     "execution_count": 39,
     "metadata": {},
     "output_type": "execute_result"
    }
   ],
   "source": [
    "pdfbinom(23,50,0.5)"
   ]
  },
  {
   "cell_type": "code",
   "execution_count": 40,
   "id": "64020302",
   "metadata": {},
   "outputs": [],
   "source": [
    "def pdfbinoma(x,n,p):\n",
    "    if(x<n and 0<=p<=1):\n",
    "        ncx=fact(n)/(fact(x)*fact(n-x))\n",
    "        px=pow(p,x)\n",
    "        qn_x=pow((1-p),(n-x))\n",
    "        return(ncx*px*qn_x)\n",
    "    else: \n",
    "        print(\"Parameters are out of range\")\n",
    "        "
   ]
  },
  {
   "cell_type": "code",
   "execution_count": 41,
   "id": "ff9e5702",
   "metadata": {},
   "outputs": [
    {
     "data": {
      "text/plain": [
       "0.09596168603351884"
      ]
     },
     "execution_count": 41,
     "metadata": {},
     "output_type": "execute_result"
    }
   ],
   "source": [
    "pdfbinoma(23,50,0.5)"
   ]
  },
  {
   "cell_type": "code",
   "execution_count": 42,
   "id": "9d87d15c",
   "metadata": {},
   "outputs": [
    {
     "name": "stdout",
     "output_type": "stream",
     "text": [
      "Parameters are out of range\n"
     ]
    }
   ],
   "source": [
    "pdfbinoma(23,50,5)"
   ]
  },
  {
   "cell_type": "code",
   "execution_count": 43,
   "id": "a1c4e0cd",
   "metadata": {},
   "outputs": [
    {
     "name": "stdout",
     "output_type": "stream",
     "text": [
      "Parameters are out of range\n"
     ]
    }
   ],
   "source": [
    "pdfbinoma(45,30,0.5)"
   ]
  },
  {
   "cell_type": "code",
   "execution_count": 44,
   "id": "a4360654",
   "metadata": {},
   "outputs": [
    {
     "data": {
      "text/plain": [
       "8.560068436219554e-08"
      ]
     },
     "execution_count": 44,
     "metadata": {},
     "output_type": "execute_result"
    }
   ],
   "source": [
    "pdfbinoma(23,50,0.8)"
   ]
  },
  {
   "cell_type": "code",
   "execution_count": 1,
   "id": "1bbad571",
   "metadata": {},
   "outputs": [],
   "source": []
  },
  {
   "cell_type": "code",
   "execution_count": null,
   "id": "a5cf83f1",
   "metadata": {},
   "outputs": [],
   "source": [
    "\n"
   ]
  }
 ],
 "metadata": {
  "kernelspec": {
   "display_name": "Python 3 (ipykernel)",
   "language": "python",
   "name": "python3"
  },
  "language_info": {
   "codemirror_mode": {
    "name": "ipython",
    "version": 3
   },
   "file_extension": ".py",
   "mimetype": "text/x-python",
   "name": "python",
   "nbconvert_exporter": "python",
   "pygments_lexer": "ipython3",
   "version": "3.9.12"
  }
 },
 "nbformat": 4,
 "nbformat_minor": 5
}
